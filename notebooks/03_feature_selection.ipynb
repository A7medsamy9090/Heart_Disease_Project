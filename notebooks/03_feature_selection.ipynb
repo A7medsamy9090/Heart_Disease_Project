{
 "cells": [
  {
   "cell_type": "code",
   "execution_count": null,
   "id": "f43e0d48",
   "metadata": {},
   "outputs": [
    {
     "name": "stdout",
     "output_type": "stream",
     "text": [
      "Selected features: ['oldpeak', 'sex_Male', 'cp_atypical angina', 'exang_True', 'slope_flat']\n"
     ]
    }
   ],
   "source": [
    "\n",
    "import pandas as pd\n",
    "from sklearn.feature_selection import SelectKBest, f_classif\n",
    "\n",
    "df = pd.read_csv(\"../data/heart_disease_uci.csv\")\n",
    "df = df.drop(columns=[\"id\", \"dataset\"], errors=\"ignore\")\n",
    "df[\"target\"] = (df[\"num\"] > 0).astype(int)\n",
    "df = df.drop(columns=[\"num\"])\n",
    "\n",
    "X = pd.get_dummies(df.drop(columns=[\"target\"]), drop_first=True).fillna(0)\n",
    "y = df[\"target\"]\n",
    "\n",
    "selector = SelectKBest(score_func=f_classif, k=5)\n",
    "selector.fit(X, y)\n",
    "selected = X.columns[selector.get_support()]\n",
    "print(\"Selected features:\", list(selected))\n"
   ]
  }
 ],
 "metadata": {
  "kernelspec": {
   "display_name": "tf_env",
   "language": "python",
   "name": "python3"
  },
  "language_info": {
   "codemirror_mode": {
    "name": "ipython",
    "version": 3
   },
   "file_extension": ".py",
   "mimetype": "text/x-python",
   "name": "python",
   "nbconvert_exporter": "python",
   "pygments_lexer": "ipython3",
   "version": "3.8.18"
  }
 },
 "nbformat": 4,
 "nbformat_minor": 5
}
