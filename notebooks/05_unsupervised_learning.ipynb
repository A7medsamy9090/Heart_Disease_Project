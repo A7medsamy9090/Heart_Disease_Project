{
 "cells": [
  {
   "cell_type": "code",
   "execution_count": 2,
   "id": "36a7ee13",
   "metadata": {},
   "outputs": [
    {
     "name": "stderr",
     "output_type": "stream",
     "text": [
      "c:\\Users\\pc\\miniconda3\\envs\\tf_env\\lib\\site-packages\\sklearn\\cluster\\_kmeans.py:1436: UserWarning: KMeans is known to have a memory leak on Windows with MKL, when there are less chunks than available threads. You can avoid it by setting the environment variable OMP_NUM_THREADS=4.\n",
      "  warnings.warn(\n"
     ]
    },
    {
     "data": {
      "text/html": [
       "<div>\n",
       "<style scoped>\n",
       "    .dataframe tbody tr th:only-of-type {\n",
       "        vertical-align: middle;\n",
       "    }\n",
       "\n",
       "    .dataframe tbody tr th {\n",
       "        vertical-align: top;\n",
       "    }\n",
       "\n",
       "    .dataframe thead th {\n",
       "        text-align: right;\n",
       "    }\n",
       "</style>\n",
       "<table border=\"1\" class=\"dataframe\">\n",
       "  <thead>\n",
       "    <tr style=\"text-align: right;\">\n",
       "      <th></th>\n",
       "      <th>Method</th>\n",
       "      <th>Homogeneity</th>\n",
       "    </tr>\n",
       "  </thead>\n",
       "  <tbody>\n",
       "    <tr>\n",
       "      <th>0</th>\n",
       "      <td>KMeans</td>\n",
       "      <td>0.055698</td>\n",
       "    </tr>\n",
       "    <tr>\n",
       "      <th>1</th>\n",
       "      <td>Agglomerative</td>\n",
       "      <td>0.057153</td>\n",
       "    </tr>\n",
       "  </tbody>\n",
       "</table>\n",
       "</div>"
      ],
      "text/plain": [
       "          Method  Homogeneity\n",
       "0         KMeans     0.055698\n",
       "1  Agglomerative     0.057153"
      ]
     },
     "execution_count": 2,
     "metadata": {},
     "output_type": "execute_result"
    }
   ],
   "source": [
    "# 05_unsupervised_learning.ipynb\n",
    "import pandas as pd\n",
    "from sklearn.cluster import KMeans, AgglomerativeClustering\n",
    "from sklearn.metrics import homogeneity_score\n",
    "\n",
    "df = pd.read_csv(\"../data/heart_disease_uci.csv\")\n",
    "df = df.drop(columns=[\"id\", \"dataset\"], errors=\"ignore\")\n",
    "df[\"target\"] = (df[\"num\"] > 0).astype(int)\n",
    "df = df.drop(columns=[\"num\"])\n",
    "\n",
    "X = pd.get_dummies(df.drop(columns=[\"target\"]), drop_first=True).fillna(0)\n",
    "y = df[\"target\"]\n",
    "\n",
    "kmeans = KMeans(n_clusters=2, n_init=10, random_state=42)\n",
    "agglo = AgglomerativeClustering(n_clusters=2)\n",
    "\n",
    "kmeans_labels = kmeans.fit_predict(X)\n",
    "agglo_labels = agglo.fit_predict(X)\n",
    "\n",
    "results = pd.DataFrame([\n",
    "    {\"Method\": \"KMeans\", \"Homogeneity\": homogeneity_score(y, kmeans_labels)},\n",
    "    {\"Method\": \"Agglomerative\", \"Homogeneity\": homogeneity_score(y, agglo_labels)}\n",
    "])\n",
    "\n",
    "results.to_csv(\"results/evaluation_metrics.txt\", mode=\"a\", index=False, sep=\"\\t\")\n",
    "results\n"
   ]
  }
 ],
 "metadata": {
  "kernelspec": {
   "display_name": "tf_env",
   "language": "python",
   "name": "python3"
  },
  "language_info": {
   "codemirror_mode": {
    "name": "ipython",
    "version": 3
   },
   "file_extension": ".py",
   "mimetype": "text/x-python",
   "name": "python",
   "nbconvert_exporter": "python",
   "pygments_lexer": "ipython3",
   "version": "3.8.18"
  }
 },
 "nbformat": 4,
 "nbformat_minor": 5
}
