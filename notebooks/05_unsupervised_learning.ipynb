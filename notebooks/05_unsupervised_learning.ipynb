{
 "cells": [
  {
   "cell_type": "code",
   "execution_count": null,
   "id": "36a7ee13",
   "metadata": {},
   "outputs": [
    {
     "name": "stderr",
     "output_type": "stream",
     "text": [
      "c:\\Users\\pc\\miniconda3\\envs\\tf_env\\lib\\site-packages\\sklearn\\cluster\\_kmeans.py:1412: FutureWarning: The default value of `n_init` will change from 10 to 'auto' in 1.4. Set the value of `n_init` explicitly to suppress the warning\n",
      "  super()._check_params_vs_input(X, default_n_init=10)\n",
      "c:\\Users\\pc\\miniconda3\\envs\\tf_env\\lib\\site-packages\\sklearn\\cluster\\_kmeans.py:1436: UserWarning: KMeans is known to have a memory leak on Windows with MKL, when there are less chunks than available threads. You can avoid it by setting the environment variable OMP_NUM_THREADS=4.\n",
      "  warnings.warn(\n"
     ]
    },
    {
     "name": "stdout",
     "output_type": "stream",
     "text": [
      "          Method  Homogeneity\n",
      "0         KMeans     0.055698\n",
      "1  Agglomerative     0.057153\n"
     ]
    }
   ],
   "source": [
    "# Cell 1: Imports\n",
    "import pandas as pd\n",
    "from sklearn.cluster import KMeans, AgglomerativeClustering\n",
    "from sklearn.metrics import homogeneity_score\n",
    "\n",
    "# Cell 2: Load + preprocess\n",
    "df = pd.read_csv(\"../data/heart_disease_uci.csv\")\n",
    "df = df.drop(columns=[\"id\", \"dataset\"], errors=\"ignore\")\n",
    "df[\"target\"] = (df[\"num\"] > 0).astype(int)\n",
    "df = df.drop(columns=[\"num\"])\n",
    "\n",
    "X = pd.get_dummies(df.drop(columns=[\"target\"]), drop_first=True).fillna(0)\n",
    "y = df[\"target\"]\n",
    "\n",
    "# Cell 3: Clustering\n",
    "kmeans = KMeans(n_clusters=2, random_state=42).fit(X)\n",
    "agg = AgglomerativeClustering(n_clusters=2).fit(X)\n",
    "\n",
    "results = [\n",
    "    [\"KMeans\", homogeneity_score(y, kmeans.labels_)],\n",
    "    [\"Agglomerative\", homogeneity_score(y, agg.labels_)]\n",
    "]\n",
    "\n",
    "results_df = pd.DataFrame(results, columns=[\"Method\",\"Homogeneity\"])\n",
    "print(results_df)\n"
   ]
  }
 ],
 "metadata": {
  "kernelspec": {
   "display_name": "tf_env",
   "language": "python",
   "name": "python3"
  },
  "language_info": {
   "codemirror_mode": {
    "name": "ipython",
    "version": 3
   },
   "file_extension": ".py",
   "mimetype": "text/x-python",
   "name": "python",
   "nbconvert_exporter": "python",
   "pygments_lexer": "ipython3",
   "version": "3.8.18"
  }
 },
 "nbformat": 4,
 "nbformat_minor": 5
}
